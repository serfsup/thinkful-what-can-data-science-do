{
 "cells": [
  {
   "cell_type": "markdown",
   "metadata": {},
   "source": [
    "1. You work at an e-commerce company that sells three goods: widgets, doodads, and fizzbangs. The head of advertising asks you which they should feature in their new advertising campaign. You have data on individual visitors' sessions (activity on a website, pageviews, and purchases), as well as whether or not those users converted from an advertisement for that session. You also have the cost and price information for the goods.\n",
    "\n",
    "I would need to look at the sales numbers for widgets, doodads, and fizzbangs.  I would also look at the activity on a webpage and the pageviews, compared with the number of sales converted from the advertisement.  Whichever of the three goods had the most hits that converted into sales should be the good to feature in the advertising campaign."
   ]
  },
  {
   "cell_type": "markdown",
   "metadata": {},
   "source": [
    "\n",
    "2. You work at a web design company that offers to build websites for clients. Signups have slowed, and you are tasked with finding out why. The onboarding funnel has three steps: email and password signup, plan choice, and payment. On a user level you have information on what steps they have completed as well as timestamps for all of those events for the past 3 years. You also have information on marketing spend on a weekly level.\n",
    "\n",
    "In this case, I would need to establish data for the past 3 years related to each of the metrics listed.  Especially important would be lining up the three-year data with the weekly marketing numbers.  If people are stopping before signing up for email and passwords, they may just be browsing and not really interested.  If people are setting up email and passwords, but stalling with the plan choice, it may be a matter of price that is stopping users.  If people are stopping after the plan choice but before paying, they may just be unsure of the value or plan to finish later in the day.  These clients should have a follow-up email in the next 24 hours."
   ]
  },
  {
   "cell_type": "markdown",
   "metadata": {},
   "source": [
    "\n",
    "3. You work at a hotel website and currently the website ranks search results by price. For simplicity's sake, let's say it's a website for one city with 100 hotels. You are tasked with proposing a better ranking system. You have session information, price information for the hotels, and whether each hotel is currently available.\n",
    "\n",
    "I would think the best ranking system would be to first exclude any hotel that is not available.  Next, based on session information, I would rank the hotels.  Any hotels that are ranked the same would be placed in order by price from least to greatest."
   ]
  },
  {
   "cell_type": "markdown",
   "metadata": {},
   "source": [
    "\n",
    "4. You work at a social network, and the management is worried about churn (users stopping using the product). You are tasked with finding out if their churn is atypical. You have three years of data for users with an entry for every time they've logged in, including the timestamp and length of session.\n",
    "\n",
    "I would imagine the first thing to do is to define how we will establish churn (possibly if a user does not log in for 30 consecutive days).  Using the data from the last 3 years, one could establish how many accounts have experienced churn.  One could evaluate the amount of churn from the last 3 years and see if the number of logins and session lengths have diminished over time."
   ]
  },
  {
   "cell_type": "code",
   "execution_count": null,
   "metadata": {},
   "outputs": [],
   "source": []
  }
 ],
 "metadata": {
  "kernelspec": {
   "display_name": "Python 3",
   "language": "python",
   "name": "python3"
  },
  "language_info": {
   "codemirror_mode": {
    "name": "ipython",
    "version": 3
   },
   "file_extension": ".py",
   "mimetype": "text/x-python",
   "name": "python",
   "nbconvert_exporter": "python",
   "pygments_lexer": "ipython3",
   "version": "3.6.1"
  }
 },
 "nbformat": 4,
 "nbformat_minor": 2
}
